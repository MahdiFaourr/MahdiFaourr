{
  "nbformat": 4,
  "nbformat_minor": 0,
  "metadata": {
    "colab": {
      "provenance": [],
      "authorship_tag": "ABX9TyMw/jmb7JgxyDnMAIQ9iU9t",
      "include_colab_link": true
    },
    "kernelspec": {
      "name": "python3",
      "display_name": "Python 3"
    },
    "language_info": {
      "name": "python"
    }
  },
  "cells": [
    {
      "cell_type": "markdown",
      "metadata": {
        "id": "view-in-github",
        "colab_type": "text"
      },
      "source": [
        "<a href=\"https://colab.research.google.com/github/MahdiFaourr/MahdiFaourr/blob/main/loan_acceptance_project.ipynb\" target=\"_parent\"><img src=\"https://colab.research.google.com/assets/colab-badge.svg\" alt=\"Open In Colab\"/></a>"
      ]
    },
    {
      "cell_type": "code",
      "source": [
        "# Install missing libraries\n",
        "!pip install opendatasets"
      ],
      "metadata": {
        "id": "_yByLJNp3qn1"
      },
      "execution_count": null,
      "outputs": []
    },
    {
      "cell_type": "code",
      "source": [
        "# Import the necessary libraries and functions for this notebook\n",
        "import opendatasets as od\n",
        "import numpy as np\n",
        "import pandas as pd\n",
        "import seaborn as sns\n",
        "import matplotlib.pyplot as plt\n",
        "from imblearn.over_sampling import RandomOverSampler\n",
        "from sklearn.preprocessing import LabelEncoder\n",
        "from sklearn.model_selection import train_test_split,cross_validate,GridSearchCV\n",
        "from sklearn.metrics import accuracy_score,precision_score,recall_score\n",
        "from sklearn.linear_model import LogisticRegression\n",
        "from sklearn.discriminant_analysis import LinearDiscriminantAnalysis\n",
        "from sklearn.neighbors import KNeighborsClassifier, KernelDensity\n",
        "from joblib import dump"
      ],
      "metadata": {
        "id": "5Vd4R6Vb2HlJ"
      },
      "execution_count": null,
      "outputs": []
    },
    {
      "cell_type": "code",
      "source": [
        "# Rnandom seed\n",
        "SEED=15"
      ],
      "metadata": {
        "id": "KuTtI9njGq2V"
      },
      "execution_count": null,
      "outputs": []
    },
    {
      "cell_type": "code",
      "source": [
        "# Download the data from kaggle\n",
        "od.download(\"https://www.kaggle.com/datasets/ninzaami/loan-predication\")"
      ],
      "metadata": {
        "id": "V_VFlL7P2Hnx"
      },
      "execution_count": null,
      "outputs": []
    },
    {
      "cell_type": "code",
      "source": [
        "# Read the data in a pandas dataframe\n",
        "loan_data=pd.read_csv(\"/content/loan-predication/train_u6lujuX_CVtuZ9i (1).csv\")"
      ],
      "metadata": {
        "id": "-y9DqtNs6L8U"
      },
      "execution_count": null,
      "outputs": []
    },
    {
      "cell_type": "code",
      "source": [
        "# Display the first 5 rows from the data\n",
        "loan_data.head()"
      ],
      "metadata": {
        "id": "tIgrw12B6L-6"
      },
      "execution_count": null,
      "outputs": []
    },
    {
      "cell_type": "code",
      "source": [
        "# The shape of the data\n",
        "print(f\"The data contains {loan_data.shape[0]} rows and {loan_data.shape[1]} columns.\")"
      ],
      "metadata": {
        "id": "2OLe0SZu6fR5"
      },
      "execution_count": null,
      "outputs": []
    },
    {
      "cell_type": "code",
      "source": [
        "# Data-info\n",
        "loan_data.info()"
      ],
      "metadata": {
        "id": "_eM-FowZ6fUg"
      },
      "execution_count": null,
      "outputs": []
    },
    {
      "cell_type": "code",
      "source": [
        "# Get the number of missing values in each column\n",
        "loan_data.isnull().sum()"
      ],
      "metadata": {
        "id": "Sxw5A6BZ6fZR"
      },
      "execution_count": null,
      "outputs": []
    },
    {
      "cell_type": "code",
      "source": [
        "# Fill nulls in categorical attributes with mode\n",
        "categorical_cols =loan_data.select_dtypes(include=['object']).columns\n",
        "for categorical_column in categorical_cols:\n",
        "  loan_data[categorical_column] = loan_data[categorical_column].fillna(loan_data[categorical_column].mode().iloc[0])\n",
        "# Fill nulls in numerical attributes with mean\n",
        "numerical_cols =loan_data.select_dtypes(include=['int64', 'float64']).columns\n",
        "for numerical_column in numerical_cols:\n",
        "  loan_data[numerical_column] = loan_data[numerical_column].fillna(loan_data[numerical_column].mean())"
      ],
      "metadata": {
        "id": "nGGs79M-8vVq"
      },
      "execution_count": null,
      "outputs": []
    },
    {
      "cell_type": "code",
      "source": [
        "# Check again the number of missing values in each column\n",
        "loan_data.isnull().sum()\n",
        "# Well, no missing values know"
      ],
      "metadata": {
        "id": "jxoq8xy86MBe"
      },
      "execution_count": null,
      "outputs": []
    },
    {
      "cell_type": "code",
      "source": [
        "# Get some statistical measures for the numerical columns\n",
        "loan_data.describe()"
      ],
      "metadata": {
        "id": "j_qrpNB1_emv"
      },
      "execution_count": null,
      "outputs": []
    },
    {
      "cell_type": "code",
      "source": [
        "# Get some statistical measures for the categorical columns\n",
        "loan_data.describe(include='O')"
      ],
      "metadata": {
        "id": "9RgCy0CU_tuQ"
      },
      "execution_count": null,
      "outputs": []
    },
    {
      "cell_type": "code",
      "source": [
        "# Convert all categorical columns into numerical columns\n",
        "encoder=LabelEncoder()\n",
        "for categorical_column in categorical_cols:\n",
        "  loan_data[categorical_column]=encoder.fit_transform(loan_data[categorical_column])"
      ],
      "metadata": {
        "id": "ULAgVdGL2HqS"
      },
      "execution_count": null,
      "outputs": []
    },
    {
      "cell_type": "code",
      "source": [
        "# Check again the data-info\n",
        "loan_data.info()\n",
        "# Well, no categorical column left"
      ],
      "metadata": {
        "id": "qv-n4bbf_JMW"
      },
      "execution_count": null,
      "outputs": []
    },
    {
      "cell_type": "code",
      "source": [
        "# Perform cross-tabulation over the  categorical and 'Loan_Status' columns\n",
        "for categorical_column in categorical_cols:\n",
        " if categorical_column not in ['Loan_Status','Loan_ID']:\n",
        "  gender_crosstab = pd.crosstab(index=loan_data[categorical_column], columns=loan_data['Loan_Status'])\n",
        "\n",
        "# Plot the cross-tabulation results with different colors\n",
        "  plt.figure(figsize=(8, 6))\n",
        "  gender_crosstab.plot(kind='bar', color=['skyblue', 'salmon'], legend=False)\n",
        "  plt.xlabel(f\"{categorical_column}\")\n",
        "  plt.ylabel('Count')\n",
        "  plt.title(f'Count of {categorical_column} by Loan Status')\n",
        "  plt.xticks(rotation=0)\n",
        "  plt.show()"
      ],
      "metadata": {
        "id": "wWbyYMXX_JRK"
      },
      "execution_count": null,
      "outputs": []
    },
    {
      "cell_type": "code",
      "source": [
        "# Plot distribution plots for each numerical column in the second class\n",
        "filtered_data_0=loan_data[loan_data['Loan_Status']==0]\n",
        "for numerical_column in numerical_cols:\n",
        "    plt.figure(figsize=(8, 6))\n",
        "    sns.histplot(data=filtered_data_0, x=numerical_column, kde=True)\n",
        "    plt.title(f'Distribution of {numerical_column}')\n",
        "    plt.xlabel(numerical_column)\n",
        "    plt.ylabel('Frequency')\n",
        "    plt.show()"
      ],
      "metadata": {
        "id": "6UsJwdFaEEKK"
      },
      "execution_count": null,
      "outputs": []
    },
    {
      "cell_type": "code",
      "source": [
        "# Plot distribution plots for each numerical column\n",
        "filtered_data_1=loan_data[loan_data['Loan_Status']==1]\n",
        "for numerical_column in numerical_cols:\n",
        "    plt.figure(figsize=(8, 6))\n",
        "    sns.histplot(data=filtered_data_1, x=numerical_column, kde=True)\n",
        "    plt.title(f'Distribution of {numerical_column}')\n",
        "    plt.xlabel(numerical_column)\n",
        "    plt.ylabel('Frequency')\n",
        "    plt.show()"
      ],
      "metadata": {
        "id": "y6lMCEJ02HsO"
      },
      "execution_count": null,
      "outputs": []
    },
    {
      "cell_type": "code",
      "source": [
        "from sklearn.neighbors import KernelDensity\n",
        "\n",
        "# Choose bandwidth parameter\n",
        "bandwidth =0.1\n",
        "\n",
        "# Plot KDE for each column in the dataset\n",
        "plt.figure(figsize=(10, 8))\n",
        "for col in loan_data[numerical_cols]:\n",
        "    # Prepare data\n",
        "    data = loan_data[col].values.reshape(-1, 1)\n",
        "\n",
        "    # Fit KDE model\n",
        "    kde = KernelDensity(bandwidth=bandwidth)\n",
        "    kde.fit(data)\n",
        "\n",
        "    # Generate samples from KDE\n",
        "    samples = kde.sample(100)\n",
        "\n",
        "    # Plot KDE\n",
        "    plt.hist(data, bins=30, density=True, alpha=0.5, label=f'{col} (Data)')\n",
        "    plt.hist(samples, bins=50, density=True, alpha=0.5, label=f'{col} (KDE)')\n",
        "    plt.xlabel('Value')\n",
        "    plt.ylabel('Density')\n",
        "    plt.title('Kernel Density Estimation (KDE) for All Columns')\n",
        "    plt.legend()\n",
        "    plt.show()\n"
      ],
      "metadata": {
        "id": "mXV7r7QHWPb5"
      },
      "execution_count": null,
      "outputs": []
    },
    {
      "cell_type": "code",
      "source": [
        "loan_data=loan_data.drop(['Loan_ID'],axis=1)\n",
        "loan_data_max=loan_data.max()\n",
        "loan_data=loan_data.divide(loan_data_max)"
      ],
      "metadata": {
        "id": "yciGDjefJRa3"
      },
      "execution_count": null,
      "outputs": []
    },
    {
      "cell_type": "code",
      "source": [
        "loan_data['Loan_Status'].value_counts()"
      ],
      "metadata": {
        "id": "NceEr85hJRdu"
      },
      "execution_count": null,
      "outputs": []
    },
    {
      "cell_type": "code",
      "source": [
        "over_sampler=RandomOverSampler(sampling_strategy=0.6)\n",
        "x=loan_data.drop('Loan_Status',axis=1).values\n",
        "y=loan_data['Loan_Status'].values\n",
        "x_new,y_new=over_sampler.fit_resample(x,y)"
      ],
      "metadata": {
        "id": "Sae6ueE8JRgs"
      },
      "execution_count": null,
      "outputs": []
    },
    {
      "cell_type": "code",
      "source": [
        "lr=LogisticRegression()\n",
        "lda=LinearDiscriminantAnalysis()\n",
        "KNN=KNeighborsClassifier(n_neighbors=5)\n",
        "models=[lr,lda,KNN]\n",
        "for model in models:\n",
        "  results=cross_validate(model,x_new,y_new,cv=3,scoring=['accuracy','precision','recall'])\n",
        "  print(\"\".join(\"-\" for x in range(50)))\n",
        "  print(f'{model}:')\n",
        "  for metric in ['test_accuracy', 'test_precision', 'test_recall']:\n",
        "        print(f'{metric}: {np.mean(results[metric])}')\n",
        "\n",
        "\n"
      ],
      "metadata": {
        "id": "desOWTo6NMar"
      },
      "execution_count": null,
      "outputs": []
    },
    {
      "cell_type": "code",
      "source": [
        "# Define parameter grid\n",
        "param_grid = {\n",
        "    'solver': ['svd', 'lsqr', 'eigen'],\n",
        "    'shrinkage': [None, 'auto']\n",
        "}\n",
        "\n",
        "# Perform grid search\n",
        "grid_search = GridSearchCV(lda, param_grid, cv=3, scoring='accuracy')\n",
        "grid_search.fit(x_new,y_new)\n",
        "\n",
        "# Print best parameters and best score\n",
        "print(\"Best Parameters:\", grid_search.best_params_)\n",
        "print(\"Best Score:\", grid_search.best_score_)"
      ],
      "metadata": {
        "id": "8SG2lhGVNMdJ"
      },
      "execution_count": null,
      "outputs": []
    },
    {
      "cell_type": "code",
      "source": [
        "lda=LinearDiscriminantAnalysis(shrinkage='auto',solver='lsqr')"
      ],
      "metadata": {
        "id": "zoly5YfsNMfc"
      },
      "execution_count": null,
      "outputs": []
    },
    {
      "cell_type": "code",
      "source": [
        "x_train,x_test,y_train,y_test=train_test_split(x_new,y_new,test_size=0.2)\n",
        "lda.fit(x_train,y_train)"
      ],
      "metadata": {
        "id": "Y0QfyhDoEEPR"
      },
      "execution_count": null,
      "outputs": []
    },
    {
      "cell_type": "code",
      "source": [
        "# Test the performance of LDA model using different metrics\n",
        "y_hat=lda.predict(x_test)\n",
        "accuracy=accuracy_score(y_hat,y_test)\n",
        "precision=precision_score(y_hat,y_test)\n",
        "recall=recall_score(y_hat,y_test)\n",
        "print(''.join('-' for x in range(50)))\n",
        "print(f\"accuracy:{accuracy*100}%.\")\n",
        "print(''.join('-' for x in range(50)))\n",
        "print(f\"precision: {precision*100}%.\")\n",
        "print(''.join('-' for x in range(50)))\n",
        "print(f\"accuracy: {recall*100}%.\")"
      ],
      "metadata": {
        "id": "NC7otPLnWPZS"
      },
      "execution_count": null,
      "outputs": []
    },
    {
      "cell_type": "code",
      "source": [
        "# Save the model to a file\n",
        "dump(lda,'lda_model.joblib')\n"
      ],
      "metadata": {
        "id": "T7CtPy-Q2Hvv"
      },
      "execution_count": null,
      "outputs": []
    },
    {
      "cell_type": "code",
      "source": [
        "# Define parameter grid\n",
        "param_grid = {\n",
        "    'n_neighbors': [3, 5, 7, 9],\n",
        "    'weights': ['uniform', 'distance'],\n",
        "    'algorithm': ['auto', 'ball_tree', 'kd_tree', 'brute']\n",
        "}\n",
        "\n",
        "# Perform grid search with cross-validation\n",
        "grid_search = GridSearchCV(KNN, param_grid, cv=5, scoring='accuracy')\n",
        "grid_search.fit(x_new, y_new)\n",
        "\n",
        "# Print best parameters and best score\n",
        "print(\"Best Parameters:\", grid_search.best_params_)\n",
        "print(\"Best Score:\", grid_search.best_score_)"
      ],
      "metadata": {
        "id": "fzAxi_KdMC3h"
      },
      "execution_count": null,
      "outputs": []
    },
    {
      "cell_type": "code",
      "source": [
        "KNN=KNeighborsClassifier(algorithm='auto',n_neighbors=9,weights='distance')\n",
        "KNN.fit(x_train,y_train)"
      ],
      "metadata": {
        "id": "ywQE_ZHHO1eZ"
      },
      "execution_count": null,
      "outputs": []
    },
    {
      "cell_type": "code",
      "source": [
        "# Test the performance of KNN model using different metrics\n",
        "y_hat=KNN.predict(x_test)\n",
        "accuracy=accuracy_score(y_hat,y_test)\n",
        "precision=precision_score(y_hat,y_test)\n",
        "recall=recall_score(y_hat,y_test)\n",
        "print(''.join('-' for x in range(50)))\n",
        "print(f\"accuracy:{accuracy*100}%.\")\n",
        "print(''.join('-' for x in range(50)))\n",
        "print(f\"precision: {precision*100}%.\")\n",
        "print(''.join('-' for x in range(50)))\n",
        "print(f\"accuracy: {recall*100}%.\")"
      ],
      "metadata": {
        "id": "yTjdauYrO1hA"
      },
      "execution_count": null,
      "outputs": []
    },
    {
      "cell_type": "code",
      "source": [
        "# Save the trained model to a file\n",
        "dump(KNN, 'knn_model.joblib')"
      ],
      "metadata": {
        "id": "rwfUvR0bQd7C"
      },
      "execution_count": null,
      "outputs": []
    },
    {
      "cell_type": "code",
      "source": [
        "# Compute the confusion matrix\n",
        "from sklearn.metrics import confusion_matrix\n",
        "cm = confusion_matrix(y_test, y_hat)\n",
        "# Plot the confusion matrix using seaborn\n",
        "plt.figure(figsize=(8, 6))\n",
        "sns.heatmap(cm, annot=True, cmap='Blues', fmt='d', cbar=False)\n",
        "plt.xlabel('Predicted labels')\n",
        "plt.ylabel('True labels')\n",
        "plt.title('Confusion Matrix')\n",
        "plt.show()"
      ],
      "metadata": {
        "id": "7X1a0WhLQd9p"
      },
      "execution_count": null,
      "outputs": []
    },
    {
      "cell_type": "code",
      "source": [
        "# This function predicts the loan status using KNN model\n",
        "def loan_status_predictor(input_array):\n",
        "  if KNN.predict([input_array])==1:\n",
        "    return \"Loan Apporoved\"\n",
        "  else:\n",
        "    return \"Loan Rejected\""
      ],
      "metadata": {
        "id": "y2xn6j0yQd_9"
      },
      "execution_count": null,
      "outputs": []
    },
    {
      "cell_type": "code",
      "source": [
        "# Example usage 1\n",
        "loan_status_predictor([1.0,\t0.0,\t0.000000,\t0.0,\t0.0,\t0.072210\t,0.000000\t,0.209160\t,0.75,\t1.0,\t1.0])"
      ],
      "metadata": {
        "id": "CXIyC138YD8v"
      },
      "execution_count": null,
      "outputs": []
    },
    {
      "cell_type": "code",
      "source": [
        "# Example usage 2\n",
        "loan_status_predictor([0.0,\t0.0,\t0.000000,\t0.0,\t1.0,\t0.056580,\t0.00000,\t0.190000,\t0.750,\t0.0,\t0.5])"
      ],
      "metadata": {
        "id": "M-Hetls9YD_v"
      },
      "execution_count": null,
      "outputs": []
    }
  ]
}